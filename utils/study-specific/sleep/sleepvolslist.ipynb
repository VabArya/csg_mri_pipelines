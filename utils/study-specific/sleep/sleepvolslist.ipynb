{
 "cells": [
  {
   "cell_type": "markdown",
   "metadata": {},
   "source": [
    "# Enzo Sleep volumes lister\n",
    "Get list of volumes per conditions/subject as an excel file, and generate a list of 1st-level covariates to regress out the volumes around the transition between concatenated sleep sequences (as we have to concatenate temporally disjoint sleep sequences to get enough volumes for analysis).\n",
    "Before using this script, reorganize the data using the following command: `python pathmatcher.py -i \"F:\\Hyperc2019\\sleep_fMRI_Enzo\\sleep_enzo_fmri_extracted_epochsminlength28\" -o \"F:\\Hyperc2019\\sleep_fMRI_Enzo\\sleep_enzo_reorg\" -ri \"(\\dir)/(([^_]+).+)\" -ro \"\\3/data/\\1/func/\\2\" --copy`\n",
    "\n",
    "by Stephen Karl Larroque, Coma Science Group - GIGA-Consciousness - University & Hospital of Liege\n",
    "2019\n",
    "v1.1\n",
    "License: MIT"
   ]
  },
  {
   "cell_type": "code",
   "execution_count": null,
   "metadata": {},
   "outputs": [],
   "source": [
    "# Forcefully autoreload all python modules\n",
    "%load_ext autoreload\n",
    "%autoreload 2"
   ]
  },
  {
   "cell_type": "code",
   "execution_count": null,
   "metadata": {},
   "outputs": [],
   "source": [
    "import pathmatcher\n",
    "import pandas as pd"
   ]
  },
  {
   "cell_type": "code",
   "execution_count": null,
   "metadata": {},
   "outputs": [],
   "source": [
    "# PARAMETERS - EDIT ME\n",
    "inputpath = r'F:\\Hyperc2019\\sleep_fMRI_Enzo\\sleep_enzo_hyperc_allmanualdone'"
   ]
  },
  {
   "cell_type": "code",
   "execution_count": null,
   "metadata": {},
   "outputs": [],
   "source": [
    "res = pathmatcher.main('-i \"%s\" -ri \"(\\\\dir)/data/(\\\\dir)/func/[^_]+_(\\\\d+)_(\\\\d+)\\.(?:img|nii)\"' % inputpath, return_report=True, regroup=True)"
   ]
  },
  {
   "cell_type": "code",
   "execution_count": null,
   "metadata": {},
   "outputs": [],
   "source": [
    "res"
   ]
  },
  {
   "cell_type": "code",
   "execution_count": null,
   "metadata": {},
   "outputs": [],
   "source": [
    "newres = []\n",
    "for subject, v in res[0].items():\n",
    "    for condition, v2 in v.items():\n",
    "        for session, v3 in v2.items():\n",
    "            volumes = v3.keys()[0]\n",
    "            filepath = v3.values()[0][0]\n",
    "            newres.append({'subject': subject, 'condition': condition, 'session': session, 'volumes': volumes, 'filepath': filepath})\n",
    "newres"
   ]
  },
  {
   "cell_type": "code",
   "execution_count": null,
   "metadata": {},
   "outputs": [],
   "source": [
    "cf_res = pd.DataFrame(newres)\n",
    "cf_res = cf_res[['subject', 'condition', 'session', 'volumes', 'filepath']]\n",
    "cf_res"
   ]
  },
  {
   "cell_type": "code",
   "execution_count": null,
   "metadata": {},
   "outputs": [],
   "source": [
    "if cf_res.to_excel('res.xls'):\n",
    "    print('List of sessions/volumes per subject and condition saved in res.xls')\n",
    "else:\n",
    "    print('ERROR: could not save the list of sessions/volumes.')"
   ]
  },
  {
   "cell_type": "markdown",
   "metadata": {},
   "source": [
    "----------------------"
   ]
  },
  {
   "cell_type": "markdown",
   "metadata": {},
   "source": [
    "## Create 1st-level covariates to scrub volumes just after a transition between 2 concatenated epoch runs"
   ]
  },
  {
   "cell_type": "code",
   "execution_count": null,
   "metadata": {},
   "outputs": [],
   "source": [
    "import matlab_wrapper\n",
    "import os\n",
    "import pathmatcher\n",
    "import re\n",
    "import sys\n",
    "# start a Matlab session\n",
    "mlab = matlab_wrapper.MatlabSession()\n",
    "# add current folder to the path to have access to helper .m scripts, this needs to be done before each command call\n",
    "mlab.workspace.addpath(os.path.abspath(''))\n",
    "#mlab.workspace.cd(os.path.abspath(''))"
   ]
  },
  {
   "cell_type": "code",
   "execution_count": null,
   "metadata": {},
   "outputs": [],
   "source": [
    "# PARAMETERS - EDIT ME\n",
    "inputpath = r'F:\\Hyperc2019\\sleep_fMRI_Enzo\\sleep_enzo_hyperc_allmanualdone'\n",
    "volstoskip = 5  # number of volumes to skip after each transition to another acquisition set of epochs\n",
    "matlabfileslistmode = 2  # choose between mode 1 (spm files listing as in preprocessing script) or mode 2 (regex_files as in conn loader scripts)\n"
   ]
  },
  {
   "cell_type": "code",
   "execution_count": null,
   "metadata": {},
   "outputs": [],
   "source": [
    "res, [conflicts1, conflicts2] = pathmatcher.main('-i \"%s\" -ri \"^\\\\dirnodot/data/\\\\dirnodot/func$\" --dir' % inputpath, return_report=True, regroup=False)\n",
    "res"
   ]
  },
  {
   "cell_type": "code",
   "execution_count": null,
   "metadata": {},
   "outputs": [],
   "source": [
    "# Please copy this into a regex_files.m in the same folder as this script, else matlabfileslistmode == 2 won't work (only mode 1 will work, and only if you have SPM12 in your path)\n",
    "# Also you need to restart the kernel AFTER you add this regex_files.m file in the same folder as this notebook.\n",
    "mlistfilesfunc = r'''\n",
    "function filesList = regex_files(dirpath, regex)\n",
    "% filesList = regex_files(dirpath, regex)\n",
    "% Extract files from a directory using regular expression\n",
    "\n",
    "    % Get all files in directory\n",
    "    filesList = dir(dirpath);\n",
    "    % Filter out directories\n",
    "    filesList = filesList(~[filesList.isdir]);\n",
    "    % Use regular expression to filter only the files we want\n",
    "    filesList = regexp({filesList.name}, regex, 'match');\n",
    "    % Concatenate the filenames in a cellarray\n",
    "    %filesList = {filesList.name};\n",
    "    % Remove empty matches\n",
    "    filesList = [filesList{:}];\n",
    "    % Prepend the full path before each filename (so that we get absolute paths)\n",
    "    if length(filesList) > 0\n",
    "        filesList = cellfun(@(f) fullfile(dirpath, f), filesList, 'UniformOutput', false);\n",
    "    end\n",
    "    % Return directly the string instead of the cell array if there is only one file matched\n",
    "    if length(filesList) == 1\n",
    "        filesList = filesList{1};\n",
    "    end\n",
    "end\n",
    "'''"
   ]
  },
  {
   "cell_type": "code",
   "execution_count": null,
   "metadata": {},
   "outputs": [],
   "source": [
    "allvolslist = []\n",
    "\n",
    "for p in res:\n",
    "    ipath = os.path.join(inputpath, p[0])\n",
    "    # Use Matlab to list the files, so that we ensure we get them in the same order as the preprocessing script we use\n",
    "    mlab.put('dirpath', ipath)\n",
    "    if matlabfileslistmode == 1:\n",
    "        mlab.eval(r\"[res] = cellstr(spm_select('FPList', dirpath, '^.+\\.(img|nii)$'))\")  # convert to cellstr the chararray output of the matlab function, else the wrapper mangles the output\n",
    "    elif matlabfileslistmode == 2:\n",
    "        mlab.eval(r\"[res] = cellstr(regex_files(dirpath, '^.+\\.(img|nii)$'))\")  # convert to cellstr the chararray output of the matlab function, else the wrapper mangles the output\n",
    "    else:\n",
    "        raise Exception('Incorrect matlabfileslistmode supplied!')\n",
    "    volslist = mlab.get('res').tolist()\n",
    "    if isinstance(volslist, str):\n",
    "        volslist = [volslist]\n",
    "    # Extract the volumens count from the filename (it's the last digits) and convert to integers\n",
    "    volslistint = [int(re.search(r'(\\d+)\\.(?:img|nii)', v).group(1)) for v in volslist]\n",
    "    # Generate the 1st-level covariate (as many 0s or 1s as there are volumes, and we set 1 just after the transitions, else 0)\n",
    "    covar = [0] * volslistint[0]\n",
    "    if len(volslistint) > 1:\n",
    "        for i in range(1, len(volslistint)):\n",
    "            v = volslistint[i]\n",
    "            if v > volstoskip:\n",
    "                covar.extend(([1] * volstoskip) + ([0] * (v-volstoskip)))\n",
    "            else:\n",
    "                covar.extend([1] * v)\n",
    "    # Save 1st-level covariate into a txt file for usage in CONN\n",
    "    with open(os.path.join(ipath, 'epochtransitioncovar.txt'), 'wb') as f:\n",
    "        f.write('\\n'.join(str(x) for x in covar))\n",
    "    # Store list of volumes, this allows to manually check if the order is alright\n",
    "    allvolslist.extend(volslistint)\n",
    "\n",
    "# Save list of all volumes for manual check\n",
    "with open(os.path.join(inputpath, 'allvolslist.txt'), 'wb') as f:\n",
    "    f.write('\\n'.join(str(x) for x in allvolslist))\n",
    "\n",
    "print('All done!')"
   ]
  }
 ],
 "metadata": {
  "kernelspec": {
   "display_name": "Python 2",
   "language": "python",
   "name": "python2"
  },
  "language_info": {
   "codemirror_mode": {
    "name": "ipython",
    "version": 2
   },
   "file_extension": ".py",
   "mimetype": "text/x-python",
   "name": "python",
   "nbconvert_exporter": "python",
   "pygments_lexer": "ipython2",
   "version": "2.7.15"
  }
 },
 "nbformat": 4,
 "nbformat_minor": 2
}
